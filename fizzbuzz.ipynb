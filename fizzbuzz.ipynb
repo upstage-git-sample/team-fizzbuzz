{
 "cells": [
  {
   "cell_type": "code",
   "execution_count": 1,
   "id": "2446ec19-f540-45ee-aa5d-0cfcdf1288d0",
   "metadata": {},
   "outputs": [
    {
     "data": {
      "text/plain": [
       "[1,\n",
       " 2,\n",
       " 'fizz',\n",
       " 4,\n",
       " 'fizz',\n",
       " 'fizz',\n",
       " 7,\n",
       " 8,\n",
       " 'fizz',\n",
       " 'fizz',\n",
       " 11,\n",
       " 'fizz',\n",
       " 13,\n",
       " 14,\n",
       " 'fizzbuzz',\n",
       " 16]"
      ]
     },
     "execution_count": 1,
     "metadata": {},
     "output_type": "execute_result"
    }
   ],
   "source": [
    "result = [\n",
    "    'fizzbuzz' if i%15==0 else\n",
    "    'fizz' if i%3==0 else\n",
    "    'fizz' if i%5==0 else\n",
    "    i for i in range(1,16+1)\n",
    "]\n",
    "\n",
    "result"
   ]
  },
  {
   "cell_type": "code",
   "execution_count": null,
   "id": "161b743e-8f02-4ee7-9443-a1f4fd51f9a6",
   "metadata": {},
   "outputs": [],
   "source": []
  }
 ],
 "metadata": {
  "kernelspec": {
   "display_name": "Python 3 (ipykernel)",
   "language": "python",
   "name": "python3"
  },
  "language_info": {
   "codemirror_mode": {
    "name": "ipython",
    "version": 3
   },
   "file_extension": ".py",
   "mimetype": "text/x-python",
   "name": "python",
   "nbconvert_exporter": "python",
   "pygments_lexer": "ipython3",
   "version": "3.11.5"
  }
 },
 "nbformat": 4,
 "nbformat_minor": 5
}
